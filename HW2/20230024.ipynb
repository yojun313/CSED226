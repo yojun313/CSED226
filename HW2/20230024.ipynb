{
 "cells": [
  {
   "cell_type": "markdown",
   "metadata": {},
   "source": [
    "# HW02\n",
    "Welcome to the assignment 2 of Introduction to Data Analysis.\n",
    "\n",
    "In this assignment, you will learn how to preprocess data using SQLite and Pandas.\n",
    "\n",
    "Please follow the instructions below:\n",
    "\n",
    "1. Write down your code between <br>\n",
    "&nbsp;&nbsp;&nbsp;&nbsp; **\\# BEGIN_YOUR_CODE**<br>\n",
    "&nbsp;&nbsp;&nbsp;&nbsp; and<br>\n",
    "&nbsp;&nbsp;&nbsp;&nbsp; **\\# END_YOUR_CODE**.\n",
    "\n",
    "2. Do not use **external libraries**. (i.e., Do not use any `import` in your code) <br>\n",
    "   Your code will fail to execute and get **0 score** if you use them.\n",
    "\n",
    "3. Rename this file to **[student_id].ipynb** (e.g. 20230000.ipynb) and submit it to PLMS. <br>\n",
    "   There is **30% penalty** if you do not follow the submission format.\n",
    "\n",
    "4. Submission late is not accepted.\n",
    "   You will get **No score** for late submission. \n",
    "\n",
    "<br>\n",
    "<br>\n",
    "\n",
    "The dataset in this assignment (cereal dataset) is cleaned up by Petra Isenberg, Pierre Dragicevic and Yvonne Jansen. We sincerely thanks for making this dataset.\n",
    "\n",
    "This dataset licensed under a Creative Commons Attribution-ShareAlike 3.0 License. License Link : https://creativecommons.org/licenses/by-sa/3.0/deed.ko\n",
    "\n",
    "For the better understanding on the dataset, please refer to this link : https://www.kaggle.com/datasets/crawford/80-cereals"
   ]
  },
  {
   "cell_type": "code",
   "metadata": {
    "ExecuteTime": {
     "end_time": "2024-09-25T06:53:53.281059Z",
     "start_time": "2024-09-25T06:53:53.278178Z"
    }
   },
   "source": [
    "import sqlite3\n",
    "import pandas as pd\n",
    "\n",
    "from typing import List, Tuple"
   ],
   "outputs": [],
   "execution_count": 4
  },
  {
   "cell_type": "markdown",
   "metadata": {},
   "source": [
    "## Problem 1. SQLite and Python [10 points]\n",
    "\n",
    "In this problem, you will learn the basic of SQlite with python."
   ]
  },
  {
   "cell_type": "markdown",
   "metadata": {},
   "source": [
    "### a. from Pandas Dataframe to SQLite Database [1 points]\n",
    "Implement function `df2db` that converts pandas dataframe read from `cereal.csv` into table `cereal` and saves it in database `cereal.db`.\n",
    "\n",
    "When you read from `cereal.csv`, you have to read only following columns : name, mfr, calories, protein, fat, carbo and sugars."
   ]
  },
  {
   "cell_type": "code",
   "metadata": {
    "ExecuteTime": {
     "end_time": "2024-09-25T08:06:55.144190Z",
     "start_time": "2024-09-25T08:06:55.138046Z"
    }
   },
   "source": [
    "def df2db() -> None:\n",
    "    '''\n",
    "        df2db() converts pandas dataframe read from |cereal.csv| into table |cereal| and saves it in |cereal.db|.\n",
    "        \n",
    "        The order of columns and data in table |cereal| does not matter.\n",
    "    '''\n",
    "    # BEGIN_YOUR_CODE\n",
    "    cereal_df = pd.read_csv('cereal.csv', sep=';', usecols=['name', 'mfr', 'calories', 'protein', 'fat', 'carbo', 'sugars'])\n",
    "    conn = sqlite3.connect('cereal.db')\n",
    "    cereal_df.to_sql('cereal', conn, if_exists='replace', index=False)\n",
    "    conn.close()\n",
    "    # END_YOUR_CODE"
   ],
   "outputs": [],
   "execution_count": 13
  },
  {
   "cell_type": "markdown",
   "metadata": {},
   "source": [
    "### b. Create Table [1 points]\n",
    "Implement the function `create` that creates a table named `ceo` in database `cereal.db`. <br>\n",
    "After executing the function `create`, the database `cereal.db` must contain the two tables `ceo` and `cereal`.\n",
    "\n",
    "The contents of table `ceo` are as follow:\n",
    "   | CEO      | Manufacturer | Salary | NutritionGrade |\n",
    "   | :-       | :-           |  :-    | :-             |\n",
    "   | John     | A            | 5000   | 80             |\n",
    "   | Allen    | G            | 6000   | 70             |\n",
    "   | Martin   | K            | 3500   | 55             |\n",
    "   | Mary     | N            | 5500   | 60             |\n",
    "   | Smith    | P            | 4500   | 40             |\n",
    "   | Aliee    | Q            | 3000   | 75             |\n",
    "   | Jolie    | R            | 7000   | 90             |"
   ]
  },
  {
   "cell_type": "code",
   "metadata": {
    "ExecuteTime": {
     "end_time": "2024-09-25T08:11:12.412929Z",
     "start_time": "2024-09-25T08:11:12.405742Z"
    }
   },
   "source": [
    "def create() -> None:\n",
    "    '''\n",
    "        create() connects a database named |cereal.db| and creates a table |ceo| in it.\n",
    "\n",
    "        Columns and data types of table |ceo| are as follow:\n",
    "            |CEO|             - string\n",
    "            |Manufacturer|    - string\n",
    "            |Salary|          - int\n",
    "            |NutritionGrade|  - int\n",
    "        \n",
    "        The order of data insertion does not matter.\n",
    "    '''\n",
    "    # BEGIN_YOUR_CODE\n",
    "    conn = sqlite3.connect('cereal.db')\n",
    "    cursor = conn.cursor()\n",
    "    \n",
    "    cursor.execute('''\n",
    "        CREATE TABLE IF NOT EXISTS ceo (\n",
    "            CEO TEXT,\n",
    "            Manufacturer TEXT,\n",
    "            Salary INTEGER,\n",
    "            NutritionGrade INTEGER\n",
    "        )\n",
    "    '''\n",
    "    )\n",
    "    \n",
    "    ceo_data = [\n",
    "        ('John', 'A', 5000, 80),\n",
    "        ('Allen', 'G', 6000, 70),\n",
    "        ('Martin', 'K', 3500, 55),\n",
    "        ('Mary', 'N', 5500, 60),\n",
    "        ('Smith', 'P', 4500, 40),\n",
    "        ('Aliee', 'Q', 3000, 75),\n",
    "        ('Jolie', 'R', 7000, 90)\n",
    "    ]\n",
    "    \n",
    "    cursor.executemany('''\n",
    "        INSERT INTO ceo (CEO, Manufacturer, Salary, NutritionGrade)\n",
    "        VALUES (?,?,?,?)\n",
    "    ''', ceo_data)\n",
    "    \n",
    "    conn.commit()\n",
    "    conn.close()\n",
    "    # END_YOUR_CODE"
   ],
   "outputs": [],
   "execution_count": 14
  },
  {
   "attachments": {
    "image.png": {
     "image/png": "[encoded data removed]"
    }
   },
   "cell_type": "markdown",
   "metadata": {},
   "source": [
    "### c. Delete and Alter [1 points]\n",
    "Implement function `delete` that delete the first row of the table `cereal` in database `cereal.db`. The first row is as below. \\\n",
    "\\\n",
    "![image.png](attachment:image.png)"
   ]
  },
  {
   "cell_type": "code",
   "metadata": {
    "ExecuteTime": {
     "end_time": "2024-09-25T08:11:38.777538Z",
     "start_time": "2024-09-25T08:11:38.773448Z"
    }
   },
   "source": [
    "def delete() -> None:\n",
    "    '''\n",
    "        delete() deletes the second row of the table |cereal|.\n",
    "        If you fail to implement this function, following problems may not be solved so implement carefully.\n",
    "    '''\n",
    "    # BEGIN_YOUR_CODE\n",
    "    conn = sqlite3.connect('cereal.db')\n",
    "    cursor = conn.cursor()\n",
    "    \n",
    "    cursor.execute('''\n",
    "        DELETE FROM cereal\n",
    "        WHERE ROWID = (SELECT ROWID FROM cereal LIMIT 1)\n",
    "    ''')\n",
    "\n",
    "    conn.commit()\n",
    "    conn.close()\n",
    "    # END_YOUR_CODE"
   ],
   "outputs": [],
   "execution_count": 15
  },
  {
   "cell_type": "markdown",
   "metadata": {},
   "source": [
    "### d. Select 1 [1 points]\n",
    "Implement function `select1` that fetches data where the protein is 4 or higher (>=) from table `cereal` in database `cereal.db`.\n",
    "\n",
    "The data should be arranged in ascending order of calories."
   ]
  },
  {
   "cell_type": "code",
   "metadata": {
    "ExecuteTime": {
     "end_time": "2024-09-25T08:20:31.872691Z",
     "start_time": "2024-09-25T08:20:31.868327Z"
    }
   },
   "source": [
    "def select1() -> List[Tuple[str, str, str, str, str, str, str]]:\n",
    "    '''\n",
    "        select1() fetches data where the protein is 4 or higher (>=) from table |cereal| in database |cereal.db| and returns them as a list of tuples.\n",
    "\n",
    "        The tuples should be arranged in ascending order of |calories|.\n",
    "        The order of tuples with the same |calories| does not matter.\n",
    "\n",
    "        Tip : When using SQLite, there are many cases to handle text data as integer. How?\n",
    "\n",
    "        The format of tuple should be as below:\n",
    "            (str, str, str, str, str, str, str)\n",
    "        which is\n",
    "            (name, mfr, calories, protein, fat, carbo, sugars)\n",
    "    '''\n",
    "    # BEGIN_YOUR_CODE\n",
    "    conn = sqlite3.connect('cereal.db')\n",
    "    cursor = conn.cursor()\n",
    "\n",
    "    cursor.execute('''\n",
    "        SELECT name, mfr, calories, protein, fat, carbo, sugars\n",
    "        FROM cereal\n",
    "        WHERE protein >= 4\n",
    "        ORDER BY CAST(calories AS INTEGER) ASC\n",
    "    ''')\n",
    "\n",
    "    result = cursor.fetchall()\n",
    "    conn.close()\n",
    "    return result\n",
    "    # END_YOUR_CODE"
   ],
   "outputs": [
    {
     "name": "stdout",
     "output_type": "stream",
     "text": [
      "[('All-Bran with Extra Fiber', 'K', '50', '4', '0', '8', '0'), ('100% Bran', 'N', '70', '4', '1', '5', '6'), ('All-Bran', 'K', '70', '4', '1', '7', '5'), ('Life', 'Q', '100', '4', '2', '12', '6'), ('Maypo', 'A', '100', '4', '1', '16', '3'), ('Quaker Oat Squares', 'Q', '100', '4', '1', '14', '6'), ('Quaker Oatmeal', 'Q', '100', '5', '2', '-1', '-1'), ('Cheerios', 'G', '110', '6', '2', '17', '1'), ('Special K', 'K', '110', '6', '0', '16', '3'), ('Muesli Raisins Dates & Almonds', 'R', '150', '4', '3', '16', '11'), ('Muesli Raisins Peaches & Pecans', 'R', '150', '4', '3', '16', '11')]\n"
     ]
    }
   ],
   "execution_count": 21
  },
  {
   "cell_type": "markdown",
   "metadata": {},
   "source": [
    "### e. Select 2 [2 points]\n",
    "Implement function `select2` that fetches all data from table `cereal` in database `cereal.db` and calculates the average calories per manufacturer(mfr)."
   ]
  },
  {
   "cell_type": "code",
   "metadata": {
    "ExecuteTime": {
     "end_time": "2024-09-25T08:13:04.580123Z",
     "start_time": "2024-09-25T08:13:04.575954Z"
    }
   },
   "source": [
    "def select2() -> List[Tuple[str, int]]:\n",
    "    '''\n",
    "        select2() fetches all data from table |cereal| in database |cereal.db| and calculates the average calories per manufacturer, and returns them as a list of tuples.\n",
    "\n",
    "        The order of tuples does not matter.\n",
    "\n",
    "        The format of tuple should be as below:\n",
    "            (str, float)\n",
    "        which is\n",
    "            (mfr, average of calories)\n",
    "    '''\n",
    "    # BEGIN_YOUR_CODE\n",
    "    conn = sqlite3.connect('cereal.db')\n",
    "    cursor = conn.cursor()\n",
    "\n",
    "    cursor.execute('''\n",
    "        SELECT mfr, AVG(CAST(calories AS INTEGER))\n",
    "        FROM cereal\n",
    "        GROUP BY mfr\n",
    "    ''')\n",
    "\n",
    "    result = cursor.fetchall()\n",
    "\n",
    "    conn.close()\n",
    "    return result\n",
    "    # END_YOUR_CODE"
   ],
   "outputs": [
    {
     "name": "stdout",
     "output_type": "stream",
     "text": [
      "[('A', 100.0), ('G', 111.36363636363636), ('K', 108.69565217391305), ('N', 86.66666666666667), ('P', 108.88888888888889), ('Q', 95.0), ('R', 115.0)]\n"
     ]
    }
   ],
   "execution_count": 19
  },
  {
   "cell_type": "markdown",
   "metadata": {},
   "source": [
    "### f. Join [2 points]\n",
    "Implement function `join` that left-joins two tables `cereal` and `ceo` in database `cereal.db` by mfr(manufacturer)."
   ]
  },
  {
   "cell_type": "code",
   "metadata": {
    "ExecuteTime": {
     "end_time": "2024-09-25T08:13:28.319697Z",
     "start_time": "2024-09-25T08:13:28.315794Z"
    }
   },
   "source": [
    "def join() -> List[Tuple[str, str, str, str, str, str, str, str, str, int, int]]:\n",
    "    '''\n",
    "        join() left-joins two tables |cereal| and |ceo| in database |cereal.db| and returns them as a list of tuples.\n",
    "        \n",
    "        The order of tuples does not matter.\n",
    "\n",
    "        The format of tuple should be as below:\n",
    "            (str, str, str, str, str, str, str, str, str, int, int)\n",
    "        which is\n",
    "            (name, mfr, calories, protein, fat, carbo, sugars, ceo, manufacturer, salary, nutritiongrade)\n",
    "    '''\n",
    "    # BEGIN_YOUR_CODE\n",
    "    conn = sqlite3.connect('cereal.db')\n",
    "    cursor = conn.cursor()\n",
    "\n",
    "    cursor.execute('''\n",
    "        SELECT cereal.name, cereal.mfr, cereal.calories, cereal.protein, cereal.fat, cereal.carbo, cereal.sugars,\n",
    "               ceo.CEO, ceo.Manufacturer, ceo.Salary, ceo.NutritionGrade\n",
    "        FROM cereal\n",
    "        LEFT JOIN ceo\n",
    "        ON cereal.mfr = ceo.Manufacturer\n",
    "    ''')\n",
    "\n",
    "    result = cursor.fetchall()\n",
    "\n",
    "    conn.close()\n",
    "\n",
    "    return result\n",
    "    # END_YOUR_CODE"
   ],
   "outputs": [
    {
     "name": "stdout",
     "output_type": "stream",
     "text": [
      "('100% Bran', 'N', '70', '4', '1', '5', '6', 'Mary', 'N', 5500, 60)\n",
      "('100% Natural Bran', 'Q', '120', '3', '5', '8', '8', 'Aliee', 'Q', 3000, 75)\n",
      "('All-Bran', 'K', '70', '4', '1', '7', '5', 'Martin', 'K', 3500, 55)\n",
      "('All-Bran with Extra Fiber', 'K', '50', '4', '0', '8', '0', 'Martin', 'K', 3500, 55)\n",
      "('Almond Delight', 'R', '110', '2', '2', '14', '8', 'Jolie', 'R', 7000, 90)\n",
      "('Apple Cinnamon Cheerios', 'G', '110', '2', '2', '10.5', '10', 'Allen', 'G', 6000, 70)\n",
      "('Apple Jacks', 'K', '110', '2', '0', '11', '14', 'Martin', 'K', 3500, 55)\n",
      "('Basic 4', 'G', '130', '3', '2', '18', '8', 'Allen', 'G', 6000, 70)\n",
      "('Bran Chex', 'R', '90', '2', '1', '15', '6', 'Jolie', 'R', 7000, 90)\n",
      "('Bran Flakes', 'P', '90', '3', '0', '13', '5', 'Smith', 'P', 4500, 40)\n",
      "(\"Cap'n'Crunch\", 'Q', '120', '1', '2', '12', '12', 'Aliee', 'Q', 3000, 75)\n",
      "('Cheerios', 'G', '110', '6', '2', '17', '1', 'Allen', 'G', 6000, 70)\n",
      "('Cinnamon Toast Crunch', 'G', '120', '1', '3', '13', '9', 'Allen', 'G', 6000, 70)\n",
      "('Clusters', 'G', '110', '3', '2', '13', '7', 'Allen', 'G', 6000, 70)\n",
      "('Cocoa Puffs', 'G', '110', '1', '1', '12', '13', 'Allen', 'G', 6000, 70)\n",
      "('Corn Chex', 'R', '110', '2', '0', '22', '3', 'Jolie', 'R', 7000, 90)\n",
      "('Corn Flakes', 'K', '100', '2', '0', '21', '2', 'Martin', 'K', 3500, 55)\n",
      "('Corn Pops', 'K', '110', '1', '0', '13', '12', 'Martin', 'K', 3500, 55)\n",
      "('Count Chocula', 'G', '110', '1', '1', '12', '13', 'Allen', 'G', 6000, 70)\n",
      "(\"Cracklin' Oat Bran\", 'K', '110', '3', '3', '10', '7', 'Martin', 'K', 3500, 55)\n",
      "('Cream of Wheat (Quick)', 'N', '100', '3', '0', '21', '0', 'Mary', 'N', 5500, 60)\n",
      "('Crispix', 'K', '110', '2', '0', '21', '3', 'Martin', 'K', 3500, 55)\n",
      "('Crispy Wheat & Raisins', 'G', '100', '2', '1', '11', '10', 'Allen', 'G', 6000, 70)\n",
      "('Double Chex', 'R', '100', '2', '0', '18', '5', 'Jolie', 'R', 7000, 90)\n",
      "('Froot Loops', 'K', '110', '2', '1', '11', '13', 'Martin', 'K', 3500, 55)\n",
      "('Frosted Flakes', 'K', '110', '1', '0', '14', '11', 'Martin', 'K', 3500, 55)\n",
      "('Frosted Mini-Wheats', 'K', '100', '3', '0', '14', '7', 'Martin', 'K', 3500, 55)\n",
      "('Fruit & Fibre Dates Walnuts and Oats', 'P', '120', '3', '2', '12', '10', 'Smith', 'P', 4500, 40)\n",
      "('Fruitful Bran', 'K', '120', '3', '0', '14', '12', 'Martin', 'K', 3500, 55)\n",
      "('Fruity Pebbles', 'P', '110', '1', '1', '13', '12', 'Smith', 'P', 4500, 40)\n",
      "('Golden Crisp', 'P', '100', '2', '0', '11', '15', 'Smith', 'P', 4500, 40)\n",
      "('Golden Grahams', 'G', '110', '1', '1', '15', '9', 'Allen', 'G', 6000, 70)\n",
      "('Grape Nuts Flakes', 'P', '100', '3', '1', '15', '5', 'Smith', 'P', 4500, 40)\n",
      "('Grape-Nuts', 'P', '110', '3', '0', '17', '3', 'Smith', 'P', 4500, 40)\n",
      "('Great Grains Pecan', 'P', '120', '3', '3', '13', '4', 'Smith', 'P', 4500, 40)\n",
      "('Honey Graham Ohs', 'Q', '120', '1', '2', '12', '11', 'Aliee', 'Q', 3000, 75)\n",
      "('Honey Nut Cheerios', 'G', '110', '3', '1', '11.5', '10', 'Allen', 'G', 6000, 70)\n",
      "('Honey-comb', 'P', '110', '1', '0', '14', '11', 'Smith', 'P', 4500, 40)\n",
      "('Just Right Crunchy  Nuggets', 'K', '110', '2', '1', '17', '6', 'Martin', 'K', 3500, 55)\n",
      "('Just Right Fruit & Nut', 'K', '140', '3', '1', '20', '9', 'Martin', 'K', 3500, 55)\n",
      "('Kix', 'G', '110', '2', '1', '21', '3', 'Allen', 'G', 6000, 70)\n",
      "('Life', 'Q', '100', '4', '2', '12', '6', 'Aliee', 'Q', 3000, 75)\n",
      "('Lucky Charms', 'G', '110', '2', '1', '12', '12', 'Allen', 'G', 6000, 70)\n",
      "('Maypo', 'A', '100', '4', '1', '16', '3', 'John', 'A', 5000, 80)\n",
      "('Muesli Raisins Dates & Almonds', 'R', '150', '4', '3', '16', '11', 'Jolie', 'R', 7000, 90)\n",
      "('Muesli Raisins Peaches & Pecans', 'R', '150', '4', '3', '16', '11', 'Jolie', 'R', 7000, 90)\n",
      "('Mueslix Crispy Blend', 'K', '160', '3', '2', '17', '13', 'Martin', 'K', 3500, 55)\n",
      "('Multi-Grain Cheerios', 'G', '100', '2', '1', '15', '6', 'Allen', 'G', 6000, 70)\n",
      "('Nut&Honey Crunch', 'K', '120', '2', '1', '15', '9', 'Martin', 'K', 3500, 55)\n",
      "('Nutri-Grain Almond-Raisin', 'K', '140', '3', '2', '21', '7', 'Martin', 'K', 3500, 55)\n",
      "('Nutri-grain Wheat', 'K', '90', '3', '0', '18', '2', 'Martin', 'K', 3500, 55)\n",
      "('Oatmeal Raisin Crisp', 'G', '130', '3', '2', '13.5', '10', 'Allen', 'G', 6000, 70)\n",
      "('Post Nat. Raisin Bran', 'P', '120', '3', '1', '11', '14', 'Smith', 'P', 4500, 40)\n",
      "('Product 19', 'K', '100', '3', '0', '20', '3', 'Martin', 'K', 3500, 55)\n",
      "('Puffed Rice', 'Q', '50', '1', '0', '13', '0', 'Aliee', 'Q', 3000, 75)\n",
      "('Puffed Wheat', 'Q', '50', '2', '0', '10', '0', 'Aliee', 'Q', 3000, 75)\n",
      "('Quaker Oat Squares', 'Q', '100', '4', '1', '14', '6', 'Aliee', 'Q', 3000, 75)\n",
      "('Quaker Oatmeal', 'Q', '100', '5', '2', '-1', '-1', 'Aliee', 'Q', 3000, 75)\n",
      "('Raisin Bran', 'K', '120', '3', '1', '14', '12', 'Martin', 'K', 3500, 55)\n",
      "('Raisin Nut Bran', 'G', '100', '3', '2', '10.5', '8', 'Allen', 'G', 6000, 70)\n",
      "('Raisin Squares', 'K', '90', '2', '0', '15', '6', 'Martin', 'K', 3500, 55)\n",
      "('Rice Chex', 'R', '110', '1', '0', '23', '2', 'Jolie', 'R', 7000, 90)\n",
      "('Rice Krispies', 'K', '110', '2', '0', '22', '3', 'Martin', 'K', 3500, 55)\n",
      "('Shredded Wheat', 'N', '80', '2', '0', '16', '0', 'Mary', 'N', 5500, 60)\n",
      "(\"Shredded Wheat 'n'Bran\", 'N', '90', '3', '0', '19', '0', 'Mary', 'N', 5500, 60)\n",
      "('Shredded Wheat spoon size', 'N', '90', '3', '0', '20', '0', 'Mary', 'N', 5500, 60)\n",
      "('Smacks', 'K', '110', '2', '1', '9', '15', 'Martin', 'K', 3500, 55)\n",
      "('Special K', 'K', '110', '6', '0', '16', '3', 'Martin', 'K', 3500, 55)\n",
      "('Strawberry Fruit Wheats', 'N', '90', '2', '0', '15', '5', 'Mary', 'N', 5500, 60)\n",
      "('Total Corn Flakes', 'G', '110', '2', '1', '21', '3', 'Allen', 'G', 6000, 70)\n",
      "('Total Raisin Bran', 'G', '140', '3', '1', '15', '14', 'Allen', 'G', 6000, 70)\n",
      "('Total Whole Grain', 'G', '100', '3', '1', '16', '3', 'Allen', 'G', 6000, 70)\n",
      "('Triples', 'G', '110', '2', '1', '21', '3', 'Allen', 'G', 6000, 70)\n",
      "('Trix', 'G', '110', '1', '1', '13', '12', 'Allen', 'G', 6000, 70)\n",
      "('Wheat Chex', 'R', '100', '3', '1', '17', '3', 'Jolie', 'R', 7000, 90)\n",
      "('Wheaties', 'G', '100', '3', '1', '17', '3', 'Allen', 'G', 6000, 70)\n",
      "('Wheaties Honey Gold', 'G', '110', '2', '1', '16', '8', 'Allen', 'G', 6000, 70)\n"
     ]
    }
   ],
   "execution_count": 20
  },
  {
   "cell_type": "markdown",
   "metadata": {},
   "source": [
    "### g. from SQLite Database to Pandas Dataframe [2 points]\n",
    "Implement function `db2df` that converts modified table `cereal` in database `cereal.db` into pandas dataframe and saves it in `cereal_mini.csv`."
   ]
  },
  {
   "cell_type": "code",
   "metadata": {
    "ExecuteTime": {
     "end_time": "2024-09-25T08:26:29.417399Z",
     "start_time": "2024-09-25T08:26:29.410680Z"
    }
   },
   "source": [
    "def db2df() -> None:\n",
    "    '''\n",
    "        db2df() converts table |cereal| in database |cereal.db| into pandas dataframe and saves it in |cereal_mini.csv|.\n",
    "\n",
    "        The columns of the converted csv file should be as below:\n",
    "            name,mfr,calories,protein,fat,carbo,sugars\n",
    "\n",
    "        The order of rows does not matter.\n",
    "\n",
    "        Let the separator as ','.\n",
    "    '''\n",
    "    # BEGIN_YOUR_CODE\n",
    "    conn = sqlite3.connect('cereal.db')\n",
    "\n",
    "    query = '''\n",
    "        SELECT name, mfr, calories, protein, fat, carbo, sugars\n",
    "        FROM cereal\n",
    "    '''\n",
    "    \n",
    "    df = pd.read_sql_query(query, conn)\n",
    "    df.to_csv('cereal_mini.csv', sep=',', index=False)\n",
    "    conn.close()\n",
    "    # END_YOUR_CODE"
   ],
   "outputs": [],
   "execution_count": 23
  },
  {
   "cell_type": "markdown",
   "metadata": {},
   "source": [
    "## Problem 2. Relational Algebra [8 points]\n",
    "\n",
    "In this problem, you will implement the relational algebra expression by code. <br>\n",
    "Connect to database `cereal.db`, execute following relational algebra expression, and return fetched data. <br>"
   ]
  },
  {
   "cell_type": "markdown",
   "metadata": {},
   "source": [
    "### a. [2 points]\n",
    "$\\pi_{name, mfr, calories, protein, carbo}(\\sigma_{carbo < 17}(cereal))$"
   ]
  },
  {
   "cell_type": "code",
   "metadata": {
    "ExecuteTime": {
     "end_time": "2024-09-25T08:46:10.939571Z",
     "start_time": "2024-09-25T08:46:10.935966Z"
    }
   },
   "source": [
    "def rel_alg1() -> List[Tuple[str, str, str, str, str]]:\n",
    "    '''\n",
    "        rel_alg1() connects to database |cereal.db|, executes given relational algebra expression, and returns fetched data as a list of tuples.\n",
    "        \n",
    "        The order of tuples does not matter.\n",
    "\n",
    "        The format of tuple should be as below:\n",
    "            (str, str, str, str, str)\n",
    "    '''\n",
    "    # BEGIN_YOUR_CODE\n",
    "    conn = sqlite3.connect('cereal.db')\n",
    "    cursor = conn.cursor()\n",
    "\n",
    "    cursor.execute('''\n",
    "        SELECT name, mfr, calories, protein, carbo\n",
    "        FROM cereal\n",
    "        WHERE CAST(carbo AS INTEGER) < 17\n",
    "    ''')\n",
    "\n",
    "    result = cursor.fetchall()\n",
    "    conn.close()\n",
    "\n",
    "    return result\n",
    "    # END_YOUR_CODE"
   ],
   "outputs": [
    {
     "name": "stdout",
     "output_type": "stream",
     "text": [
      "54\n",
      "('100% Bran', 'N', '70', '4', '5')\n",
      "('100% Natural Bran', 'Q', '120', '3', '8')\n",
      "('All-Bran', 'K', '70', '4', '7')\n",
      "('All-Bran with Extra Fiber', 'K', '50', '4', '8')\n",
      "('Almond Delight', 'R', '110', '2', '14')\n",
      "('Apple Cinnamon Cheerios', 'G', '110', '2', '10.5')\n",
      "('Apple Jacks', 'K', '110', '2', '11')\n",
      "('Bran Chex', 'R', '90', '2', '15')\n",
      "('Bran Flakes', 'P', '90', '3', '13')\n",
      "(\"Cap'n'Crunch\", 'Q', '120', '1', '12')\n",
      "('Cinnamon Toast Crunch', 'G', '120', '1', '13')\n",
      "('Clusters', 'G', '110', '3', '13')\n",
      "('Cocoa Puffs', 'G', '110', '1', '12')\n",
      "('Corn Pops', 'K', '110', '1', '13')\n",
      "('Count Chocula', 'G', '110', '1', '12')\n",
      "(\"Cracklin' Oat Bran\", 'K', '110', '3', '10')\n",
      "('Crispy Wheat & Raisins', 'G', '100', '2', '11')\n",
      "('Froot Loops', 'K', '110', '2', '11')\n",
      "('Frosted Flakes', 'K', '110', '1', '14')\n",
      "('Frosted Mini-Wheats', 'K', '100', '3', '14')\n",
      "('Fruit & Fibre Dates Walnuts and Oats', 'P', '120', '3', '12')\n",
      "('Fruitful Bran', 'K', '120', '3', '14')\n",
      "('Fruity Pebbles', 'P', '110', '1', '13')\n",
      "('Golden Crisp', 'P', '100', '2', '11')\n",
      "('Golden Grahams', 'G', '110', '1', '15')\n",
      "('Grape Nuts Flakes', 'P', '100', '3', '15')\n",
      "('Great Grains Pecan', 'P', '120', '3', '13')\n",
      "('Honey Graham Ohs', 'Q', '120', '1', '12')\n",
      "('Honey Nut Cheerios', 'G', '110', '3', '11.5')\n",
      "('Honey-comb', 'P', '110', '1', '14')\n",
      "('Life', 'Q', '100', '4', '12')\n",
      "('Lucky Charms', 'G', '110', '2', '12')\n",
      "('Maypo', 'A', '100', '4', '16')\n",
      "('Muesli Raisins Dates & Almonds', 'R', '150', '4', '16')\n",
      "('Muesli Raisins Peaches & Pecans', 'R', '150', '4', '16')\n",
      "('Multi-Grain Cheerios', 'G', '100', '2', '15')\n",
      "('Nut&Honey Crunch', 'K', '120', '2', '15')\n",
      "('Oatmeal Raisin Crisp', 'G', '130', '3', '13.5')\n",
      "('Post Nat. Raisin Bran', 'P', '120', '3', '11')\n",
      "('Puffed Rice', 'Q', '50', '1', '13')\n",
      "('Puffed Wheat', 'Q', '50', '2', '10')\n",
      "('Quaker Oat Squares', 'Q', '100', '4', '14')\n",
      "('Quaker Oatmeal', 'Q', '100', '5', '-1')\n",
      "('Raisin Bran', 'K', '120', '3', '14')\n",
      "('Raisin Nut Bran', 'G', '100', '3', '10.5')\n",
      "('Raisin Squares', 'K', '90', '2', '15')\n",
      "('Shredded Wheat', 'N', '80', '2', '16')\n",
      "('Smacks', 'K', '110', '2', '9')\n",
      "('Special K', 'K', '110', '6', '16')\n",
      "('Strawberry Fruit Wheats', 'N', '90', '2', '15')\n",
      "('Total Raisin Bran', 'G', '140', '3', '15')\n",
      "('Total Whole Grain', 'G', '100', '3', '16')\n",
      "('Trix', 'G', '110', '1', '13')\n",
      "('Wheaties Honey Gold', 'G', '110', '2', '16')\n"
     ]
    }
   ],
   "execution_count": 34
  },
  {
   "cell_type": "markdown",
   "metadata": {},
   "source": [
    "### b. [3 points]\n",
    "$\\pi_{name, mfr, calories, ceo}(\\sigma_{calories-NutritionGrade>60 \\: \\cap \\: mfr=manufacturer}(cereal \\times ceo))$\n"
   ]
  },
  {
   "cell_type": "code",
   "metadata": {
    "ExecuteTime": {
     "end_time": "2024-09-25T08:46:19.845235Z",
     "start_time": "2024-09-25T08:46:19.841060Z"
    }
   },
   "source": [
    "def rel_alg2() -> List[Tuple[str, str, str, str]]:\n",
    "    '''\n",
    "        rel_alg2() connects to database |cereal.db|, executes given relational algebra expression, and returns fetched data as a list of tuples.\n",
    "        \n",
    "        The order of tuples does not matter.\n",
    "\n",
    "        The format of tuple should be as below:\n",
    "            (str, str, str, str)\n",
    "    '''\n",
    "    # BEGIN_YOUR_CODE\n",
    "    conn = sqlite3.connect('cereal.db')\n",
    "    cursor = conn.cursor()\n",
    "\n",
    "    cursor.execute('''\n",
    "        SELECT cereal.name, cereal.mfr, cereal.calories, ceo.CEO\n",
    "        FROM cereal\n",
    "        JOIN ceo\n",
    "        ON cereal.mfr = ceo.Manufacturer\n",
    "        WHERE (CAST(cereal.calories AS INTEGER) - CAST(ceo.NutritionGrade AS INTEGER)) > 60\n",
    "    ''')\n",
    "\n",
    "    result = cursor.fetchall()\n",
    "\n",
    "    conn.close()\n",
    "\n",
    "    return result\n",
    "    # END_YOUR_CODE"
   ],
   "outputs": [
    {
     "name": "stdout",
     "output_type": "stream",
     "text": [
      "13\n",
      "('Fruit & Fibre Dates Walnuts and Oats', 'P', '120', 'Smith')\n",
      "('Fruitful Bran', 'K', '120', 'Martin')\n",
      "('Fruity Pebbles', 'P', '110', 'Smith')\n",
      "('Grape-Nuts', 'P', '110', 'Smith')\n",
      "('Great Grains Pecan', 'P', '120', 'Smith')\n",
      "('Honey-comb', 'P', '110', 'Smith')\n",
      "('Just Right Fruit & Nut', 'K', '140', 'Martin')\n",
      "('Mueslix Crispy Blend', 'K', '160', 'Martin')\n",
      "('Nut&Honey Crunch', 'K', '120', 'Martin')\n",
      "('Nutri-Grain Almond-Raisin', 'K', '140', 'Martin')\n",
      "('Post Nat. Raisin Bran', 'P', '120', 'Smith')\n",
      "('Raisin Bran', 'K', '120', 'Martin')\n",
      "('Total Raisin Bran', 'G', '140', 'Allen')\n"
     ]
    }
   ],
   "execution_count": 35
  },
  {
   "cell_type": "markdown",
   "metadata": {},
   "source": [
    "### c. [3 points]\n",
    "$\\pi_{name, protein, sugars}(\\sigma_{protein < 4}(cereal)) \\cup \\pi_{name, protein, sugars}(\\sigma_{sugars > 7}(cereal)) $"
   ]
  },
  {
   "cell_type": "code",
   "metadata": {
    "ExecuteTime": {
     "end_time": "2024-09-25T08:47:16.183505Z",
     "start_time": "2024-09-25T08:47:16.178805Z"
    }
   },
   "source": [
    "def rel_alg3() -> List[Tuple[str, str, str]]:\n",
    "    '''\n",
    "        rel_alg3() connects to database |cereal.db|, executes given relational algebra expression, and returns fetched data as a list of tuples.\n",
    "        \n",
    "        The order of tuples does not matter.\n",
    "\n",
    "        The format of tuple should be as below:\n",
    "            (str, str, str)\n",
    "    '''\n",
    "    # BEGIN_YOUR_CODE\n",
    "    conn = sqlite3.connect('cereal.db')\n",
    "    cursor = conn.cursor()\n",
    "\n",
    "    cursor.execute('''\n",
    "        SELECT name, protein, sugars\n",
    "        FROM cereal\n",
    "        WHERE CAST(protein as INTEGER) < 4\n",
    "        UNION\n",
    "        SELECT name, protein, sugars\n",
    "        FROM cereal\n",
    "        WHERE CAST(sugars as INTEGER) > 7\n",
    "    ''')\n",
    "\n",
    "    result = cursor.fetchall()\n",
    "\n",
    "    conn.close()\n",
    "\n",
    "    return result\n",
    "    # END_YOUR_CODE"
   ],
   "outputs": [
    {
     "name": "stdout",
     "output_type": "stream",
     "text": [
      "68\n",
      "('100% Natural Bran', '3', '8')\n",
      "('Almond Delight', '2', '8')\n",
      "('Apple Cinnamon Cheerios', '2', '10')\n",
      "('Apple Jacks', '2', '14')\n",
      "('Basic 4', '3', '8')\n",
      "('Bran Chex', '2', '6')\n",
      "('Bran Flakes', '3', '5')\n",
      "(\"Cap'n'Crunch\", '1', '12')\n",
      "('Cinnamon Toast Crunch', '1', '9')\n",
      "('Clusters', '3', '7')\n",
      "('Cocoa Puffs', '1', '13')\n",
      "('Corn Chex', '2', '3')\n",
      "('Corn Flakes', '2', '2')\n",
      "('Corn Pops', '1', '12')\n",
      "('Count Chocula', '1', '13')\n",
      "(\"Cracklin' Oat Bran\", '3', '7')\n",
      "('Cream of Wheat (Quick)', '3', '0')\n",
      "('Crispix', '2', '3')\n",
      "('Crispy Wheat & Raisins', '2', '10')\n",
      "('Double Chex', '2', '5')\n",
      "('Froot Loops', '2', '13')\n",
      "('Frosted Flakes', '1', '11')\n",
      "('Frosted Mini-Wheats', '3', '7')\n",
      "('Fruit & Fibre Dates Walnuts and Oats', '3', '10')\n",
      "('Fruitful Bran', '3', '12')\n",
      "('Fruity Pebbles', '1', '12')\n",
      "('Golden Crisp', '2', '15')\n",
      "('Golden Grahams', '1', '9')\n",
      "('Grape Nuts Flakes', '3', '5')\n",
      "('Grape-Nuts', '3', '3')\n",
      "('Great Grains Pecan', '3', '4')\n",
      "('Honey Graham Ohs', '1', '11')\n",
      "('Honey Nut Cheerios', '3', '10')\n",
      "('Honey-comb', '1', '11')\n",
      "('Just Right Crunchy  Nuggets', '2', '6')\n",
      "('Just Right Fruit & Nut', '3', '9')\n",
      "('Kix', '2', '3')\n",
      "('Lucky Charms', '2', '12')\n",
      "('Muesli Raisins Dates & Almonds', '4', '11')\n",
      "('Muesli Raisins Peaches & Pecans', '4', '11')\n",
      "('Mueslix Crispy Blend', '3', '13')\n",
      "('Multi-Grain Cheerios', '2', '6')\n",
      "('Nut&Honey Crunch', '2', '9')\n",
      "('Nutri-Grain Almond-Raisin', '3', '7')\n",
      "('Nutri-grain Wheat', '3', '2')\n",
      "('Oatmeal Raisin Crisp', '3', '10')\n",
      "('Post Nat. Raisin Bran', '3', '14')\n",
      "('Product 19', '3', '3')\n",
      "('Puffed Rice', '1', '0')\n",
      "('Puffed Wheat', '2', '0')\n",
      "('Raisin Bran', '3', '12')\n",
      "('Raisin Nut Bran', '3', '8')\n",
      "('Raisin Squares', '2', '6')\n",
      "('Rice Chex', '1', '2')\n",
      "('Rice Krispies', '2', '3')\n",
      "('Shredded Wheat', '2', '0')\n",
      "(\"Shredded Wheat 'n'Bran\", '3', '0')\n",
      "('Shredded Wheat spoon size', '3', '0')\n",
      "('Smacks', '2', '15')\n",
      "('Strawberry Fruit Wheats', '2', '5')\n",
      "('Total Corn Flakes', '2', '3')\n",
      "('Total Raisin Bran', '3', '14')\n",
      "('Total Whole Grain', '3', '3')\n",
      "('Triples', '2', '3')\n",
      "('Trix', '1', '12')\n",
      "('Wheat Chex', '3', '3')\n",
      "('Wheaties', '3', '3')\n",
      "('Wheaties Honey Gold', '2', '8')\n"
     ]
    }
   ],
   "execution_count": 37
  },
  {
   "cell_type": "markdown",
   "metadata": {},
   "source": [
    "## Problem 3. SQL Query Exercise [10 points]\n",
    "In this problem, do not just fetch all data from table and use basic python operations to solve the problem. <br>\n",
    "Only SQL query is allowed."
   ]
  },
  {
   "cell_type": "markdown",
   "metadata": {},
   "source": [
    "### a. Complicated Select 1 [4 ponts]\n",
    "\n",
    "Implement `comp_select1` that calculates the average fat of cereals for each manufacturer except for the cereal where the calories is under 90(< 90)  using table `cereal` in database `cereal.db`.\n"
   ]
  },
  {
   "cell_type": "code",
   "metadata": {
    "ExecuteTime": {
     "end_time": "2024-09-25T09:02:47.610292Z",
     "start_time": "2024-09-25T09:02:47.606640Z"
    }
   },
   "source": [
    "def comp_select1() -> List[Tuple[str, float, str]]:\n",
    "    '''\n",
    "        comp_select1() calculates the average fat of cereals for each manufacturer except for the cereal where the calories is 90 or above (>= 90), \n",
    "        and returns them as a list of tuples. \n",
    "\n",
    "        The tuples should be arranged in ascending order of average fat.\n",
    "\n",
    "        The format of tuple should be as below:\n",
    "            (str, float, str)\n",
    "        which is\n",
    "            (mfr, average of fat, calories)\n",
    "    '''\n",
    "    # BEGIN_YOUR_CODE\n",
    "    conn = sqlite3.connect('cereal.db')\n",
    "    cursor = conn.cursor()\n",
    "\n",
    "    cursor.execute('''\n",
    "        SELECT mfr, \n",
    "        AVG(CAST(fat AS FLOAT)) AS avg_fat, \n",
    "        CAST(AVG(CAST(calories AS FLOAT)) AS TEXT) AS avg_calories\n",
    "        FROM cereal\n",
    "        WHERE CAST(calories AS FLOAT) >= 90\n",
    "        GROUP BY mfr\n",
    "        ORDER BY avg_fat ASC;\n",
    "    ''')\n",
    "\n",
    "    result = cursor.fetchall()\n",
    "\n",
    "    conn.close()\n",
    "    return result\n",
    "    # END_YOUR_CODE"
   ],
   "outputs": [
    {
     "name": "stdout",
     "output_type": "stream",
     "text": [
      "[('N', 0.0, '92.5'), ('K', 0.6190476190476191, '113.333333333333'), ('P', 0.8888888888888888, '108.888888888889'), ('A', 1.0, '100.0'), ('R', 1.25, '115.0'), ('G', 1.3636363636363635, '111.363636363636'), ('Q', 2.3333333333333335, '110.0')]\n"
     ]
    }
   ],
   "execution_count": 42
  },
  {
   "cell_type": "markdown",
   "metadata": {},
   "source": [
    "### b. Complicated Select 2 [6 ponts]\n",
    "\n",
    "Implement `comp_select2` that finds every pair of cereals, where the sum of protein is 10 or above and the sum of carbo is 24 or below, except for the case if the sum of fat is 10 or above. using table `cereal` in database `cereal.db`.\n"
   ]
  },
  {
   "cell_type": "code",
   "metadata": {
    "ExecuteTime": {
     "end_time": "2024-09-25T09:04:45.837719Z",
     "start_time": "2024-09-25T09:04:45.831427Z"
    }
   },
   "source": [
    "def comp_select2() -> List[Tuple[str, str]]:\n",
    "    '''\n",
    "        comp_select2() finds every pair of distinct cereals where the sum of protein is 10 or above and the sum of carbo is 24 or below\n",
    "        using table |cereal| in database |cereal.db|, and returns them as a list of tuples.\n",
    "\n",
    "        The order of tuples does not matter.\n",
    "        There should be no tuple where the content is same but the order inside the tuple is different.\n",
    "        For example, if you have ('a', 'b') and ('b', 'a') in your results, you have to only keep ('a', 'b'), which follows lexicographic order.\n",
    "\n",
    "        The format of tuple should be as below:\n",
    "            (str, str)\n",
    "        which is\n",
    "            (name1, name2)\n",
    "    '''\n",
    "    # BEGIN_YOUR_CODE\n",
    "    conn = sqlite3.connect('cereal.db')\n",
    "    cursor = conn.cursor()\n",
    "\n",
    "    cursor.execute('''\n",
    "        SELECT c1.name, c2.name\n",
    "        FROM cereal c1, cereal c2\n",
    "        WHERE c1.name < c2.name  \n",
    "        AND (c1.protein + c2.protein) >= 10\n",
    "        AND (c1.carbo + c2.carbo) <= 24\n",
    "        AND (c1.fat + c2.fat) < 10\n",
    "    ''')\n",
    "\n",
    "    result = cursor.fetchall()\n",
    "\n",
    "    conn.close()\n",
    "    return result\n",
    "    # END_YOUR_CODE"
   ],
   "outputs": [
    {
     "name": "stdout",
     "output_type": "stream",
     "text": [
      "('100% Bran', 'Cheerios')\n",
      "('100% Bran', 'Special K')\n",
      "('All-Bran', 'Cheerios')\n",
      "('All-Bran', 'Special K')\n",
      "('All-Bran with Extra Fiber', 'Special K')\n",
      "('Cheerios', 'Quaker Oatmeal')\n",
      "('Quaker Oatmeal', 'Special K')\n",
      "7\n"
     ]
    }
   ],
   "execution_count": 45
  },
  {
   "metadata": {},
   "cell_type": "code",
   "outputs": [],
   "execution_count": null,
   "source": ""
  }
 ],
 "metadata": {
  "anaconda-cloud": {},
  "kernelspec": {
   "display_name": "Python 3",
   "language": "python",
   "name": "python3"
  },
  "language_info": {
   "codemirror_mode": {
    "name": "ipython",
    "version": 3
   },
   "file_extension": ".py",
   "mimetype": "text/x-python",
   "name": "python",
   "nbconvert_exporter": "python",
   "pygments_lexer": "ipython3",
   "version": "3.7.16"
  }
 },
 "nbformat": 4,
 "nbformat_minor": 1
}
